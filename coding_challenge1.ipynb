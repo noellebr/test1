{
  "nbformat": 4,
  "nbformat_minor": 0,
  "metadata": {
    "colab": {
      "name": "coding-challenge1.ipynb",
      "provenance": [],
      "collapsed_sections": [],
      "include_colab_link": true
    },
    "kernelspec": {
      "name": "python3",
      "display_name": "Python 3"
    }
  },
  "cells": [
    {
      "cell_type": "markdown",
      "metadata": {
        "id": "view-in-github",
        "colab_type": "text"
      },
      "source": [
        "<a href=\"https://colab.research.google.com/github/noellebr/test1/blob/main/coding_challenge1.ipynb\" target=\"_parent\"><img src=\"https://colab.research.google.com/assets/colab-badge.svg\" alt=\"Open In Colab\"/></a>"
      ]
    },
    {
      "cell_type": "markdown",
      "metadata": {
        "id": "r3neMYeqIqH4"
      },
      "source": [
        "<center>\n",
        "<img src=\"https://course_report_production.s3.amazonaws.com/rich/rich_files/rich_files/2470/s300/cd-logo-blue-600x600.png\" alt=\"Coding Dojo Logo\" class=\"center\" height=\"50\">\n",
        "\n",
        "# Coding Challenge 1\n",
        "\n",
        "*Make a copy of this notebook to edit!*\n",
        "\n",
        "<img src=\"https://external-content.duckduckgo.com/iu/?u=https%3A%2F%2Fcdn.searchenginejournal.com%2Fwp-content%2Fuploads%2F2020%2F08%2Fcopy-the-colab-notebook-to-your-google-drive-5f2579179f746.jpg&f=1&nofb=1\" alt=\"Make a copy\" class=\"center\" height=\"300\">\n",
        "\n",
        "</center>\n",
        "\n",
        "## Task\n",
        "\n",
        "You are given two variables, `a` and `b`. Write code to print three lines where:\n",
        "- The first line contains the sum of the two numbers.\n",
        "- The second line contains the difference of the two numbers (first - second).\n",
        "- The third line contains the product of the two numbers.\n",
        "\n",
        "**Example:**  \n",
        "```python\n",
        "a = 3\n",
        "b = 5\n",
        "```\n",
        "Print the following:\n",
        "```python\n",
        "8\n",
        "-2\n",
        "15\n",
        "```\n",
        "\n",
        "*Optional Challenge*: Can you write a function for this? It should take in two positive integers $a$ and $b$ as input and print out the three lines stated above.\n",
        "\n",
        "**Example:**\n",
        "\n",
        "Example:\n",
        "```python\n",
        "a = 3\n",
        "b = 5\n",
        "\n",
        "operators(a, b)\n",
        "```\n",
        "Gives us:\n",
        "```python\n",
        "8\n",
        "-2\n",
        "15\n",
        "```"
      ]
    },
    {
      "cell_type": "code",
      "metadata": {
        "id": "vc3h45lE60UE"
      },
      "source": [
        ""
      ],
      "execution_count": null,
      "outputs": []
    },
    {
      "cell_type": "code",
      "metadata": {
        "id": "__J9X-kmIkul"
      },
      "source": [
        "a = 3\n",
        "b = 5\n",
        "\n",
        "# Your code here:\n",
        "\n"
      ],
      "execution_count": null,
      "outputs": []
    }
  ]
}